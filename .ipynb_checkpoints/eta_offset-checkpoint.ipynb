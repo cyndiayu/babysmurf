{
 "cells": [
  {
   "cell_type": "markdown",
   "metadata": {},
   "source": [
    "# Eta Offset exploration\n",
    "\n",
    "Separating out eta offset exploration in a new notebook to avoid rerunning everything else over and over...."
   ]
  },
  {
   "cell_type": "code",
   "execution_count": 1,
   "metadata": {},
   "outputs": [],
   "source": [
    "# startup\n",
    "import numpy as np\n",
    "import scipy.signal\n",
    "import matplotlib.pyplot as plt\n",
    "%matplotlib inline\n",
    "import babysmurf as bs"
   ]
  },
  {
   "cell_type": "code",
   "execution_count": 2,
   "metadata": {},
   "outputs": [],
   "source": [
    "fsig = 0.5 # 0.5 Hz signal\n",
    "\n",
    "tvec = np.linspace(0,0.5,50) # create 1 second of data\n",
    "sig = np.sin(2 * np.pi * (1/fsig) * tvec)\n",
    "\n",
    "scalefac = 0.1\n",
    "scaledsig = scalefac * sig\n",
    "\n",
    "squid = bs.make_squid_curve(0.33,100.e3) # lambda = 0.33, 100kHz peak to peak frequency swing\n",
    "\n",
    "m,t,ph = bs.make_measured_signal(tvec,scaledsig,squid,reset_rate=4.e3) # take nphi0=4, fsamp = 2.4MHz as defaults, but 4kHz reset rate as is common"
   ]
  },
  {
   "cell_type": "code",
   "execution_count": 3,
   "metadata": {},
   "outputs": [],
   "source": [
    "# go back to use an ideal resonator here\n",
    "fres = 5.5e9 # 5.5GHz\n",
    "Qtot = 5.5e4\n",
    "Qc = 4.e4 # now this is complex\n",
    "fvec = np.linspace(fres-60.e3,fres+60.e3,int(6e2))\n",
    "\n",
    "matmag,matphase = bs.make_s21_measurement(fvec,fres + m,Qtot,Qc)"
   ]
  },
  {
   "cell_type": "code",
   "execution_count": 4,
   "metadata": {},
   "outputs": [],
   "source": [
    "# estimate eta using the state at time = 0\n",
    "offset = 20.e3 # 20 kHz offset\n",
    "eta = bs.estimate_eta(fvec,matmag[:,0],matphase[:,0],offset=offset)"
   ]
  },
  {
   "cell_type": "code",
   "execution_count": null,
   "metadata": {},
   "outputs": [],
   "source": [
    "offset_angles = [10,30,50,70] # degrees\n",
    "demods = np.zeros((500,len(offset_angles)))\n",
    "for ii in range(len(offset_angles)):\n",
    "    matphase2 = np.exp(1j*np.deg2rad(offset_angles[ii])) * matphase\n",
    "    dd,_,_,_,_ = bs.lms_fit_demod_track(np.transpose(matmag[:,:300000]),np.transpose(matphase2[:,:300000]),fvec,eta,reset_rate=4.e3)\n",
    "    demods[:,ii] = np.ravel(dd)"
   ]
  },
  {
   "cell_type": "code",
   "execution_count": null,
   "metadata": {},
   "outputs": [],
   "source": []
  }
 ],
 "metadata": {
  "kernelspec": {
   "display_name": "Python 3",
   "language": "python",
   "name": "python3"
  },
  "language_info": {
   "codemirror_mode": {
    "name": "ipython",
    "version": 3
   },
   "file_extension": ".py",
   "mimetype": "text/x-python",
   "name": "python",
   "nbconvert_exporter": "python",
   "pygments_lexer": "ipython3",
   "version": "3.8.5"
  }
 },
 "nbformat": 4,
 "nbformat_minor": 4
}
